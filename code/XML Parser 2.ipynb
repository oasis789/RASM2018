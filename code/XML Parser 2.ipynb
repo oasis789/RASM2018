{
 "cells": [
  {
   "cell_type": "code",
   "execution_count": 1,
   "metadata": {},
   "outputs": [],
   "source": [
    "import xml.etree.ElementTree as ET\n",
    "import os"
   ]
  },
  {
   "cell_type": "code",
   "execution_count": 2,
   "metadata": {},
   "outputs": [],
   "source": [
    "tree = ET.parse('Training_Data/Add MS 7474_0013.xml')"
   ]
  },
  {
   "cell_type": "code",
   "execution_count": 42,
   "metadata": {},
   "outputs": [
    {
     "data": {
      "text/plain": [
       "<xml.etree.ElementTree.ElementTree at 0x106656e80>"
      ]
     },
     "execution_count": 42,
     "metadata": {},
     "output_type": "execute_result"
    }
   ],
   "source": [
    "tree"
   ]
  },
  {
   "cell_type": "code",
   "execution_count": 4,
   "metadata": {},
   "outputs": [],
   "source": [
    "root = tree.getroot()"
   ]
  },
  {
   "cell_type": "code",
   "execution_count": 11,
   "metadata": {},
   "outputs": [],
   "source": [
    "metadata = root.find('{http://schema.primaresearch.org/PAGE/gts/pagecontent/2017-07-15}Metadata')\n",
    "page = root.find('{http://schema.primaresearch.org/PAGE/gts/pagecontent/2017-07-15}Page')"
   ]
  },
  {
   "cell_type": "code",
   "execution_count": 46,
   "metadata": {},
   "outputs": [
    {
     "data": {
      "text/plain": [
       "<Element '{http://schema.primaresearch.org/PAGE/gts/pagecontent/2017-07-15}Page' at 0x106661b88>"
      ]
     },
     "execution_count": 46,
     "metadata": {},
     "output_type": "execute_result"
    }
   ],
   "source": [
    "root.find('{http://schema.primaresearch.org/PAGE/gts/pagecontent/2017-07-15}Page')"
   ]
  },
  {
   "cell_type": "code",
   "execution_count": 83,
   "metadata": {},
   "outputs": [
    {
     "data": {
      "text/plain": [
       "[<Element '{http://schema.primaresearch.org/PAGE/gts/pagecontent/2017-07-15}Coords' at 0x106661c28>,\n",
       " <Element '{http://schema.primaresearch.org/PAGE/gts/pagecontent/2017-07-15}TextLine' at 0x106661c78>,\n",
       " <Element '{http://schema.primaresearch.org/PAGE/gts/pagecontent/2017-07-15}TextLine' at 0x106661db8>,\n",
       " <Element '{http://schema.primaresearch.org/PAGE/gts/pagecontent/2017-07-15}TextLine' at 0x106661ef8>,\n",
       " <Element '{http://schema.primaresearch.org/PAGE/gts/pagecontent/2017-07-15}TextLine' at 0x1066523b8>,\n",
       " <Element '{http://schema.primaresearch.org/PAGE/gts/pagecontent/2017-07-15}TextLine' at 0x1066520e8>,\n",
       " <Element '{http://schema.primaresearch.org/PAGE/gts/pagecontent/2017-07-15}TextLine' at 0x106661f48>,\n",
       " <Element '{http://schema.primaresearch.org/PAGE/gts/pagecontent/2017-07-15}TextLine' at 0x1066600e8>,\n",
       " <Element '{http://schema.primaresearch.org/PAGE/gts/pagecontent/2017-07-15}TextLine' at 0x106660228>,\n",
       " <Element '{http://schema.primaresearch.org/PAGE/gts/pagecontent/2017-07-15}TextLine' at 0x106660368>,\n",
       " <Element '{http://schema.primaresearch.org/PAGE/gts/pagecontent/2017-07-15}TextLine' at 0x1066604a8>,\n",
       " <Element '{http://schema.primaresearch.org/PAGE/gts/pagecontent/2017-07-15}TextLine' at 0x1066605e8>,\n",
       " <Element '{http://schema.primaresearch.org/PAGE/gts/pagecontent/2017-07-15}TextLine' at 0x106660728>,\n",
       " <Element '{http://schema.primaresearch.org/PAGE/gts/pagecontent/2017-07-15}TextLine' at 0x106660868>,\n",
       " <Element '{http://schema.primaresearch.org/PAGE/gts/pagecontent/2017-07-15}TextLine' at 0x1066609a8>,\n",
       " <Element '{http://schema.primaresearch.org/PAGE/gts/pagecontent/2017-07-15}TextLine' at 0x106660ae8>,\n",
       " <Element '{http://schema.primaresearch.org/PAGE/gts/pagecontent/2017-07-15}TextLine' at 0x106660c28>,\n",
       " <Element '{http://schema.primaresearch.org/PAGE/gts/pagecontent/2017-07-15}TextLine' at 0x106660cc8>,\n",
       " <Element '{http://schema.primaresearch.org/PAGE/gts/pagecontent/2017-07-15}TextLine' at 0x106660e08>,\n",
       " <Element '{http://schema.primaresearch.org/PAGE/gts/pagecontent/2017-07-15}TextLine' at 0x106660f48>,\n",
       " <Element '{http://schema.primaresearch.org/PAGE/gts/pagecontent/2017-07-15}TextEquiv' at 0x1066680e8>]"
      ]
     },
     "execution_count": 83,
     "metadata": {},
     "output_type": "execute_result"
    }
   ],
   "source": [
    "list(page[0])"
   ]
  },
  {
   "cell_type": "code",
   "execution_count": 126,
   "metadata": {},
   "outputs": [],
   "source": [
    "image_info = page.attrib"
   ]
  },
  {
   "cell_type": "code",
   "execution_count": 123,
   "metadata": {},
   "outputs": [],
   "source": [
    "def parse_coords(points):\n",
    "    return np.array([tuple(int(p) for p in point.split(',')) for point in points.split()])"
   ]
  },
  {
   "cell_type": "code",
   "execution_count": 152,
   "metadata": {},
   "outputs": [],
   "source": [
    "def load_xml_data(path_to_file):\n",
    "    tree = ET.parse(path_to_file)\n",
    "    root = tree.getroot()\n",
    "    metadata = root.find('{http://schema.primaresearch.org/PAGE/gts/pagecontent/2017-07-15}Metadata')\n",
    "    page = root.find('{http://schema.primaresearch.org/PAGE/gts/pagecontent/2017-07-15}Page')\n",
    "    image_info = page.attrib\n",
    "    text_region_data = []\n",
    "    for text_region in page:\n",
    "        text_region_id = text_region.attrib.get('id')\n",
    "        text_region_type = text_region.attrib.get('type', 'graphic')\n",
    "        text_region_coords = text_region.find('{http://schema.primaresearch.org/PAGE/gts/pagecontent/2017-07-15}Coords').attrib.get('points')\n",
    "        text_line_list = text_region.findall('{http://schema.primaresearch.org/PAGE/gts/pagecontent/2017-07-15}TextLine')\n",
    "        text_line_data = []\n",
    "        for text_line in text_line_list:\n",
    "            text_line_id = text_line.attrib['id']\n",
    "            text_line_coords = text_line.find('{http://schema.primaresearch.org/PAGE/gts/pagecontent/2017-07-15}Coords').attrib.get('points')\n",
    "            text_line_text = text_line.find('{http://schema.primaresearch.org/PAGE/gts/pagecontent/2017-07-15}TextEquiv')[0].text\n",
    "            text_line_data.append({\n",
    "                'id': text_line_id,\n",
    "                'points': parse_coords(text_line_coords),\n",
    "                'text': text_line_text\n",
    "            })\n",
    "\n",
    "        text_region_data.append({\n",
    "            'id': text_region_id,\n",
    "            'type': text_region_type,\n",
    "            'points': parse_coords(text_region_coords),\n",
    "            'lines': text_line_data\n",
    "        })\n",
    "    return image_info, text_region_data"
   ]
  },
  {
   "cell_type": "code",
   "execution_count": 153,
   "metadata": {},
   "outputs": [],
   "source": [
    "i, data = load_xml_data('Training_Data/Add MS 7474_0042.xml')"
   ]
  },
  {
   "cell_type": "code",
   "execution_count": 154,
   "metadata": {},
   "outputs": [
    {
     "data": {
      "text/plain": [
       "{'id': 'r0', 'lines': [], 'points': array([[3574, 2419],\n",
       "        [3574, 2420],\n",
       "        [3589, 2420],\n",
       "        ...,\n",
       "        [3557, 2420],\n",
       "        [3558, 2420],\n",
       "        [3558, 2419]]), 'type': 'graphic'}"
      ]
     },
     "execution_count": 154,
     "metadata": {},
     "output_type": "execute_result"
    }
   ],
   "source": [
    "data[-2]"
   ]
  },
  {
   "cell_type": "code",
   "execution_count": 138,
   "metadata": {},
   "outputs": [
    {
     "data": {
      "text/plain": [
       "array([[ 517, 6125],\n",
       "       [ 517, 6049],\n",
       "       [ 528, 5999],\n",
       "       [ 528, 5859],\n",
       "       [ 596, 5856],\n",
       "       [ 596, 5800],\n",
       "       [ 601, 5597],\n",
       "       [ 601, 5577],\n",
       "       [ 573, 5282],\n",
       "       [ 573, 5219],\n",
       "       [ 554, 5213],\n",
       "       [ 554, 5138],\n",
       "       [ 493, 5029],\n",
       "       [ 493, 4958],\n",
       "       [ 545, 4728],\n",
       "       [ 545, 4595],\n",
       "       [ 496, 4415],\n",
       "       [ 537, 4267],\n",
       "       [ 537, 4246],\n",
       "       [ 559, 4246],\n",
       "       [ 559, 4240],\n",
       "       [ 597, 4240],\n",
       "       [ 597, 4191],\n",
       "       [ 596, 4086],\n",
       "       [ 596, 3919],\n",
       "       [ 585, 3919],\n",
       "       [ 585, 3895],\n",
       "       [ 573, 3895],\n",
       "       [ 573, 3820],\n",
       "       [ 547, 3820],\n",
       "       [ 547, 3698],\n",
       "       [ 576, 3483],\n",
       "       [ 576, 3381],\n",
       "       [ 644, 3119],\n",
       "       [ 644, 2994],\n",
       "       [ 650, 2982],\n",
       "       [ 650, 2916],\n",
       "       [ 550, 2916],\n",
       "       [ 550, 2831],\n",
       "       [ 490, 2828],\n",
       "       [ 490, 2715],\n",
       "       [ 411, 2715],\n",
       "       [ 411, 2633],\n",
       "       [ 406, 2633],\n",
       "       [ 406, 2630],\n",
       "       [ 346, 2630],\n",
       "       [ 346, 2566],\n",
       "       [ 517, 2566],\n",
       "       [ 517, 2505],\n",
       "       [ 518, 2505],\n",
       "       [ 518, 2465],\n",
       "       [ 531, 2465],\n",
       "       [ 531, 2460],\n",
       "       [ 551, 2410],\n",
       "       [ 593, 2401],\n",
       "       [ 593, 2400],\n",
       "       [ 592, 2400],\n",
       "       [ 592, 2399],\n",
       "       [ 591, 2399],\n",
       "       [ 620, 2335],\n",
       "       [ 645, 2223],\n",
       "       [ 645, 2164],\n",
       "       [ 643, 2164],\n",
       "       [ 643, 2131],\n",
       "       [ 619, 2129],\n",
       "       [ 619, 2078],\n",
       "       [ 633, 1979],\n",
       "       [ 633, 1939],\n",
       "       [ 593, 1939],\n",
       "       [ 593, 1916],\n",
       "       [ 545, 1916],\n",
       "       [ 545, 1871],\n",
       "       [ 506, 1871],\n",
       "       [ 506, 1851],\n",
       "       [ 545, 1851],\n",
       "       [ 545, 1848],\n",
       "       [ 564, 1848],\n",
       "       [ 564, 1767],\n",
       "       [ 574, 1697],\n",
       "       [ 574, 1667],\n",
       "       [ 510, 1667],\n",
       "       [ 510, 1665],\n",
       "       [ 509, 1665],\n",
       "       [ 509, 1663],\n",
       "       [ 510, 1663],\n",
       "       [ 510, 1619],\n",
       "       [ 560, 1619],\n",
       "       [ 560, 1588],\n",
       "       [ 590, 1588],\n",
       "       [ 590, 1555],\n",
       "       [ 606, 1555],\n",
       "       [ 606, 1499],\n",
       "       [ 659, 1403],\n",
       "       [ 720, 1403],\n",
       "       [ 720, 1426],\n",
       "       [ 873, 1426],\n",
       "       [ 873, 1409],\n",
       "       [ 937, 1409],\n",
       "       [ 937, 1370],\n",
       "       [ 989, 1370],\n",
       "       [ 989, 1395],\n",
       "       [ 987, 1395],\n",
       "       [1162, 1395],\n",
       "       [1162, 1396],\n",
       "       [1275, 1396],\n",
       "       [1275, 1400],\n",
       "       [1371, 1400],\n",
       "       [1479, 1429],\n",
       "       [1579, 1429],\n",
       "       [1889, 1430],\n",
       "       [2006, 1430],\n",
       "       [2006, 1423],\n",
       "       [2165, 1423],\n",
       "       [2165, 1436],\n",
       "       [2310, 1436],\n",
       "       [2310, 1402],\n",
       "       [2383, 1402],\n",
       "       [2390, 1365],\n",
       "       [2443, 1365],\n",
       "       [2443, 1458],\n",
       "       [2715, 1458],\n",
       "       [2715, 1409],\n",
       "       [2717, 1409],\n",
       "       [2717, 1407],\n",
       "       [2747, 1407],\n",
       "       [2747, 1394],\n",
       "       [2777, 1394],\n",
       "       [2777, 1458],\n",
       "       [2891, 1458],\n",
       "       [2891, 1432],\n",
       "       [2928, 1432],\n",
       "       [2928, 1427],\n",
       "       [3031, 1427],\n",
       "       [3031, 1431],\n",
       "       [3204, 1431],\n",
       "       [3204, 1447],\n",
       "       [3321, 1447],\n",
       "       [3321, 1453],\n",
       "       [3765, 1453],\n",
       "       [3796, 1416],\n",
       "       [3799, 1416],\n",
       "       [3799, 1422],\n",
       "       [3939, 1422],\n",
       "       [3939, 1401],\n",
       "       [4008, 1401],\n",
       "       [4008, 1398],\n",
       "       [4027, 1398],\n",
       "       [4027, 1403],\n",
       "       [4295, 1403],\n",
       "       [4295, 1663],\n",
       "       [4304, 1755],\n",
       "       [4304, 1901],\n",
       "       [4299, 2117],\n",
       "       [4299, 2127],\n",
       "       [4298, 2127],\n",
       "       [4298, 2253],\n",
       "       [4293, 2381],\n",
       "       [4293, 2501],\n",
       "       [4289, 2668],\n",
       "       [4289, 2789],\n",
       "       [4296, 2793],\n",
       "       [4296, 2886],\n",
       "       [4273, 2893],\n",
       "       [4273, 2963],\n",
       "       [4300, 3020],\n",
       "       [4300, 3058],\n",
       "       [4282, 3058],\n",
       "       [4282, 3184],\n",
       "       [4319, 3305],\n",
       "       [4319, 3318],\n",
       "       [4316, 3318],\n",
       "       [4316, 3321],\n",
       "       [4309, 3321],\n",
       "       [4309, 3326],\n",
       "       [4306, 3326],\n",
       "       [4306, 3327],\n",
       "       [4309, 3511],\n",
       "       [4309, 3517],\n",
       "       [4312, 3520],\n",
       "       [4312, 3527],\n",
       "       [4309, 3527],\n",
       "       [4309, 3585],\n",
       "       [4273, 3585],\n",
       "       [4273, 3756],\n",
       "       [4274, 3952],\n",
       "       [4274, 4008],\n",
       "       [4286, 4008],\n",
       "       [4286, 4044],\n",
       "       [4294, 4044],\n",
       "       [4294, 4046],\n",
       "       [4295, 4046],\n",
       "       [4295, 4067],\n",
       "       [4323, 4067],\n",
       "       [4323, 4082],\n",
       "       [4318, 4082],\n",
       "       [4318, 4128],\n",
       "       [4292, 4128],\n",
       "       [4292, 4130],\n",
       "       [4287, 4130],\n",
       "       [4287, 4185],\n",
       "       [4282, 4185],\n",
       "       [4282, 4275],\n",
       "       [4306, 4471],\n",
       "       [4306, 4665],\n",
       "       [4321, 4665],\n",
       "       [4321, 4667],\n",
       "       [4319, 4667],\n",
       "       [4326, 4959],\n",
       "       [4299, 5016],\n",
       "       [4281, 5161],\n",
       "       [4281, 5224],\n",
       "       [4305, 5224],\n",
       "       [4305, 5323],\n",
       "       [4316, 5421],\n",
       "       [4316, 5425],\n",
       "       [4317, 5425],\n",
       "       [4317, 5427],\n",
       "       [4291, 5578],\n",
       "       [4291, 5582],\n",
       "       [4289, 5582],\n",
       "       [4289, 5583],\n",
       "       [4287, 5583],\n",
       "       [4287, 5587],\n",
       "       [4282, 5587],\n",
       "       [4282, 5620],\n",
       "       [4295, 5769],\n",
       "       [4295, 5777],\n",
       "       [4289, 5777],\n",
       "       [4289, 5888],\n",
       "       [4295, 6028],\n",
       "       [4295, 6063],\n",
       "       [4293, 6065],\n",
       "       [4293, 6232],\n",
       "       [4326, 6432],\n",
       "       [4318, 6540],\n",
       "       [4318, 6565],\n",
       "       [4281, 6706],\n",
       "       [4281, 6773],\n",
       "       [4297, 6773],\n",
       "       [4297, 6786],\n",
       "       [4289, 6786],\n",
       "       [4289, 6853],\n",
       "       [4275, 6853],\n",
       "       [4275, 6893],\n",
       "       [4279, 6893],\n",
       "       [4279, 7066],\n",
       "       [4261, 7066],\n",
       "       [4261, 7169],\n",
       "       [4208, 7169],\n",
       "       [3543, 7196],\n",
       "       [3336, 7196],\n",
       "       [2896, 7182],\n",
       "       [2836, 7182],\n",
       "       [2685, 7193],\n",
       "       [2638, 7193],\n",
       "       [2529, 7154],\n",
       "       [2462, 7154],\n",
       "       [2462, 7145],\n",
       "       [2355, 7145],\n",
       "       [2355, 7136],\n",
       "       [2161, 7136],\n",
       "       [2159, 7173],\n",
       "       [2003, 7173],\n",
       "       [1770, 7134],\n",
       "       [1746, 7134],\n",
       "       [1746, 7154],\n",
       "       [1645, 7154],\n",
       "       [1645, 7184],\n",
       "       [1589, 7184],\n",
       "       [1589, 7117],\n",
       "       [1526, 7117],\n",
       "       [1526, 7111],\n",
       "       [1328, 7111],\n",
       "       [1328, 7115],\n",
       "       [1092, 7115],\n",
       "       [1092, 7163],\n",
       "       [1038, 7163],\n",
       "       [1038, 7153],\n",
       "       [ 949, 7153],\n",
       "       [ 949, 7138],\n",
       "       [ 703, 7138],\n",
       "       [ 703, 7179],\n",
       "       [ 601, 7179],\n",
       "       [ 601, 7187],\n",
       "       [ 584, 7187],\n",
       "       [ 584, 7121],\n",
       "       [ 568, 7121],\n",
       "       [ 568, 7053],\n",
       "       [ 610, 6825],\n",
       "       [ 610, 6654],\n",
       "       [ 536, 6575],\n",
       "       [ 536, 6496],\n",
       "       [ 488, 6287],\n",
       "       [ 488, 6135]])"
      ]
     },
     "execution_count": 138,
     "metadata": {},
     "output_type": "execute_result"
    }
   ],
   "source": []
  },
  {
   "cell_type": "code",
   "execution_count": null,
   "metadata": {},
   "outputs": [],
   "source": []
  },
  {
   "cell_type": "code",
   "execution_count": null,
   "metadata": {},
   "outputs": [],
   "source": []
  },
  {
   "cell_type": "code",
   "execution_count": null,
   "metadata": {},
   "outputs": [],
   "source": []
  },
  {
   "cell_type": "code",
   "execution_count": 129,
   "metadata": {},
   "outputs": [
    {
     "ename": "TypeError",
     "evalue": "Object of type 'ndarray' is not JSON serializable",
     "output_type": "error",
     "traceback": [
      "\u001b[0;31m---------------------------------------------------------------------------\u001b[0m",
      "\u001b[0;31mTypeError\u001b[0m                                 Traceback (most recent call last)",
      "\u001b[0;32m<ipython-input-129-e8d7401b0251>\u001b[0m in \u001b[0;36m<module>\u001b[0;34m()\u001b[0m\n\u001b[1;32m      1\u001b[0m \u001b[0;32mimport\u001b[0m \u001b[0mjson\u001b[0m\u001b[0;34m\u001b[0m\u001b[0m\n\u001b[0;32m----> 2\u001b[0;31m \u001b[0mjson\u001b[0m\u001b[0;34m.\u001b[0m\u001b[0mdumps\u001b[0m\u001b[0;34m(\u001b[0m\u001b[0mtext_region_data\u001b[0m\u001b[0;34m)\u001b[0m\u001b[0;34m\u001b[0m\u001b[0m\n\u001b[0m",
      "\u001b[0;32m~/miniconda3/lib/python3.6/json/__init__.py\u001b[0m in \u001b[0;36mdumps\u001b[0;34m(obj, skipkeys, ensure_ascii, check_circular, allow_nan, cls, indent, separators, default, sort_keys, **kw)\u001b[0m\n\u001b[1;32m    229\u001b[0m         \u001b[0mcls\u001b[0m \u001b[0;32mis\u001b[0m \u001b[0;32mNone\u001b[0m \u001b[0;32mand\u001b[0m \u001b[0mindent\u001b[0m \u001b[0;32mis\u001b[0m \u001b[0;32mNone\u001b[0m \u001b[0;32mand\u001b[0m \u001b[0mseparators\u001b[0m \u001b[0;32mis\u001b[0m \u001b[0;32mNone\u001b[0m \u001b[0;32mand\u001b[0m\u001b[0;34m\u001b[0m\u001b[0m\n\u001b[1;32m    230\u001b[0m         default is None and not sort_keys and not kw):\n\u001b[0;32m--> 231\u001b[0;31m         \u001b[0;32mreturn\u001b[0m \u001b[0m_default_encoder\u001b[0m\u001b[0;34m.\u001b[0m\u001b[0mencode\u001b[0m\u001b[0;34m(\u001b[0m\u001b[0mobj\u001b[0m\u001b[0;34m)\u001b[0m\u001b[0;34m\u001b[0m\u001b[0m\n\u001b[0m\u001b[1;32m    232\u001b[0m     \u001b[0;32mif\u001b[0m \u001b[0mcls\u001b[0m \u001b[0;32mis\u001b[0m \u001b[0;32mNone\u001b[0m\u001b[0;34m:\u001b[0m\u001b[0;34m\u001b[0m\u001b[0m\n\u001b[1;32m    233\u001b[0m         \u001b[0mcls\u001b[0m \u001b[0;34m=\u001b[0m \u001b[0mJSONEncoder\u001b[0m\u001b[0;34m\u001b[0m\u001b[0m\n",
      "\u001b[0;32m~/miniconda3/lib/python3.6/json/encoder.py\u001b[0m in \u001b[0;36mencode\u001b[0;34m(self, o)\u001b[0m\n\u001b[1;32m    197\u001b[0m         \u001b[0;31m# exceptions aren't as detailed.  The list call should be roughly\u001b[0m\u001b[0;34m\u001b[0m\u001b[0;34m\u001b[0m\u001b[0m\n\u001b[1;32m    198\u001b[0m         \u001b[0;31m# equivalent to the PySequence_Fast that ''.join() would do.\u001b[0m\u001b[0;34m\u001b[0m\u001b[0;34m\u001b[0m\u001b[0m\n\u001b[0;32m--> 199\u001b[0;31m         \u001b[0mchunks\u001b[0m \u001b[0;34m=\u001b[0m \u001b[0mself\u001b[0m\u001b[0;34m.\u001b[0m\u001b[0miterencode\u001b[0m\u001b[0;34m(\u001b[0m\u001b[0mo\u001b[0m\u001b[0;34m,\u001b[0m \u001b[0m_one_shot\u001b[0m\u001b[0;34m=\u001b[0m\u001b[0;32mTrue\u001b[0m\u001b[0;34m)\u001b[0m\u001b[0;34m\u001b[0m\u001b[0m\n\u001b[0m\u001b[1;32m    200\u001b[0m         \u001b[0;32mif\u001b[0m \u001b[0;32mnot\u001b[0m \u001b[0misinstance\u001b[0m\u001b[0;34m(\u001b[0m\u001b[0mchunks\u001b[0m\u001b[0;34m,\u001b[0m \u001b[0;34m(\u001b[0m\u001b[0mlist\u001b[0m\u001b[0;34m,\u001b[0m \u001b[0mtuple\u001b[0m\u001b[0;34m)\u001b[0m\u001b[0;34m)\u001b[0m\u001b[0;34m:\u001b[0m\u001b[0;34m\u001b[0m\u001b[0m\n\u001b[1;32m    201\u001b[0m             \u001b[0mchunks\u001b[0m \u001b[0;34m=\u001b[0m \u001b[0mlist\u001b[0m\u001b[0;34m(\u001b[0m\u001b[0mchunks\u001b[0m\u001b[0;34m)\u001b[0m\u001b[0;34m\u001b[0m\u001b[0m\n",
      "\u001b[0;32m~/miniconda3/lib/python3.6/json/encoder.py\u001b[0m in \u001b[0;36miterencode\u001b[0;34m(self, o, _one_shot)\u001b[0m\n\u001b[1;32m    255\u001b[0m                 \u001b[0mself\u001b[0m\u001b[0;34m.\u001b[0m\u001b[0mkey_separator\u001b[0m\u001b[0;34m,\u001b[0m \u001b[0mself\u001b[0m\u001b[0;34m.\u001b[0m\u001b[0mitem_separator\u001b[0m\u001b[0;34m,\u001b[0m \u001b[0mself\u001b[0m\u001b[0;34m.\u001b[0m\u001b[0msort_keys\u001b[0m\u001b[0;34m,\u001b[0m\u001b[0;34m\u001b[0m\u001b[0m\n\u001b[1;32m    256\u001b[0m                 self.skipkeys, _one_shot)\n\u001b[0;32m--> 257\u001b[0;31m         \u001b[0;32mreturn\u001b[0m \u001b[0m_iterencode\u001b[0m\u001b[0;34m(\u001b[0m\u001b[0mo\u001b[0m\u001b[0;34m,\u001b[0m \u001b[0;36m0\u001b[0m\u001b[0;34m)\u001b[0m\u001b[0;34m\u001b[0m\u001b[0m\n\u001b[0m\u001b[1;32m    258\u001b[0m \u001b[0;34m\u001b[0m\u001b[0m\n\u001b[1;32m    259\u001b[0m def _make_iterencode(markers, _default, _encoder, _indent, _floatstr,\n",
      "\u001b[0;32m~/miniconda3/lib/python3.6/json/encoder.py\u001b[0m in \u001b[0;36mdefault\u001b[0;34m(self, o)\u001b[0m\n\u001b[1;32m    178\u001b[0m         \"\"\"\n\u001b[1;32m    179\u001b[0m         raise TypeError(\"Object of type '%s' is not JSON serializable\" %\n\u001b[0;32m--> 180\u001b[0;31m                         o.__class__.__name__)\n\u001b[0m\u001b[1;32m    181\u001b[0m \u001b[0;34m\u001b[0m\u001b[0m\n\u001b[1;32m    182\u001b[0m     \u001b[0;32mdef\u001b[0m \u001b[0mencode\u001b[0m\u001b[0;34m(\u001b[0m\u001b[0mself\u001b[0m\u001b[0;34m,\u001b[0m \u001b[0mo\u001b[0m\u001b[0;34m)\u001b[0m\u001b[0;34m:\u001b[0m\u001b[0;34m\u001b[0m\u001b[0m\n",
      "\u001b[0;31mTypeError\u001b[0m: Object of type 'ndarray' is not JSON serializable"
     ]
    }
   ],
   "source": [
    "import json\n",
    "json.dumps(text_region_data)"
   ]
  },
  {
   "cell_type": "code",
   "execution_count": 121,
   "metadata": {},
   "outputs": [],
   "source": []
  },
  {
   "cell_type": "code",
   "execution_count": 88,
   "metadata": {},
   "outputs": [
    {
     "data": {
      "text/plain": [
       "<Element '{http://schema.primaresearch.org/PAGE/gts/pagecontent/2017-07-15}Unicode' at 0x106661d68>"
      ]
     },
     "execution_count": 88,
     "metadata": {},
     "output_type": "execute_result"
    }
   ],
   "source": [
    "page[0][1].find('{http://schema.primaresearch.org/PAGE/gts/pagecontent/2017-07-15}TextEquiv')[0]"
   ]
  },
  {
   "cell_type": "code",
   "execution_count": 55,
   "metadata": {},
   "outputs": [
    {
     "data": {
      "text/plain": [
       "'517,6125 517,6049 528,5999 528,5859 596,5856 596,5800 601,5597 601,5577 573,5282 573,5219 554,5213 554,5138 493,5029 493,4958 545,4728 545,4595 496,4415 537,4267 537,4246 559,4246 559,4240 597,4240 597,4191 596,4086 596,3919 585,3919 585,3895 573,3895 573,3820 547,3820 547,3698 576,3483 576,3381 644,3119 644,2994 650,2982 650,2916 550,2916 550,2831 490,2828 490,2715 411,2715 411,2633 406,2633 406,2630 346,2630 346,2566 517,2566 517,2505 518,2505 518,2465 531,2465 531,2460 551,2410 593,2401 593,2400 592,2400 592,2399 591,2399 620,2335 645,2223 645,2164 643,2164 643,2131 619,2129 619,2078 633,1979 633,1939 593,1939 593,1916 545,1916 545,1871 506,1871 506,1851 545,1851 545,1848 564,1848 564,1767 574,1697 574,1667 510,1667 510,1665 509,1665 509,1663 510,1663 510,1619 560,1619 560,1588 590,1588 590,1555 606,1555 606,1499 659,1403 720,1403 720,1426 873,1426 873,1409 937,1409 937,1370 989,1370 989,1395 987,1395 1162,1395 1162,1396 1275,1396 1275,1400 1371,1400 1479,1429 1579,1429 1889,1430 2006,1430 2006,1423 2165,1423 2165,1436 2310,1436 2310,1402 2383,1402 2390,1365 2443,1365 2443,1458 2715,1458 2715,1409 2717,1409 2717,1407 2747,1407 2747,1394 2777,1394 2777,1458 2891,1458 2891,1432 2928,1432 2928,1427 3031,1427 3031,1431 3204,1431 3204,1447 3321,1447 3321,1453 3765,1453 3796,1416 3799,1416 3799,1422 3939,1422 3939,1401 4008,1401 4008,1398 4027,1398 4027,1403 4295,1403 4295,1663 4304,1755 4304,1901 4299,2117 4299,2127 4298,2127 4298,2253 4293,2381 4293,2501 4289,2668 4289,2789 4296,2793 4296,2886 4273,2893 4273,2963 4300,3020 4300,3058 4282,3058 4282,3184 4319,3305 4319,3318 4316,3318 4316,3321 4309,3321 4309,3326 4306,3326 4306,3327 4309,3511 4309,3517 4312,3520 4312,3527 4309,3527 4309,3585 4273,3585 4273,3756 4274,3952 4274,4008 4286,4008 4286,4044 4294,4044 4294,4046 4295,4046 4295,4067 4323,4067 4323,4082 4318,4082 4318,4128 4292,4128 4292,4130 4287,4130 4287,4185 4282,4185 4282,4275 4306,4471 4306,4665 4321,4665 4321,4667 4319,4667 4326,4959 4299,5016 4281,5161 4281,5224 4305,5224 4305,5323 4316,5421 4316,5425 4317,5425 4317,5427 4291,5578 4291,5582 4289,5582 4289,5583 4287,5583 4287,5587 4282,5587 4282,5620 4295,5769 4295,5777 4289,5777 4289,5888 4295,6028 4295,6063 4293,6065 4293,6232 4326,6432 4318,6540 4318,6565 4281,6706 4281,6773 4297,6773 4297,6786 4289,6786 4289,6853 4275,6853 4275,6893 4279,6893 4279,7066 4261,7066 4261,7169 4208,7169 3543,7196 3336,7196 2896,7182 2836,7182 2685,7193 2638,7193 2529,7154 2462,7154 2462,7145 2355,7145 2355,7136 2161,7136 2159,7173 2003,7173 1770,7134 1746,7134 1746,7154 1645,7154 1645,7184 1589,7184 1589,7117 1526,7117 1526,7111 1328,7111 1328,7115 1092,7115 1092,7163 1038,7163 1038,7153 949,7153 949,7138 703,7138 703,7179 601,7179 601,7187 584,7187 584,7121 568,7121 568,7053 610,6825 610,6654 536,6575 536,6496 488,6287 488,6135'"
      ]
     },
     "execution_count": 55,
     "metadata": {},
     "output_type": "execute_result"
    }
   ],
   "source": [
    "coords.attrib['points']"
   ]
  },
  {
   "cell_type": "code",
   "execution_count": null,
   "metadata": {},
   "outputs": [],
   "source": []
  }
 ],
 "metadata": {
  "kernelspec": {
   "display_name": "Python 3",
   "language": "python",
   "name": "python3"
  },
  "language_info": {
   "codemirror_mode": {
    "name": "ipython",
    "version": 3
   },
   "file_extension": ".py",
   "mimetype": "text/x-python",
   "name": "python",
   "nbconvert_exporter": "python",
   "pygments_lexer": "ipython3",
   "version": "3.6.1"
  }
 },
 "nbformat": 4,
 "nbformat_minor": 2
}
