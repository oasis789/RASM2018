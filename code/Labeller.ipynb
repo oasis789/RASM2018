{
 "cells": [
  {
   "cell_type": "code",
   "execution_count": null,
   "metadata": {},
   "outputs": [],
   "source": [
    "import parser\n",
    "from plotter import plot_image\n",
    "from skimage.draw import polygon\n",
    "import numpy as np\n",
    "from skimage.color import label2rgb"
   ]
  },
  {
   "cell_type": "code",
   "execution_count": null,
   "metadata": {},
   "outputs": [],
   "source": [
    "def label_image(file_name):\n",
    "    xml_file_name = file_name.split('.')[0] + '.xml'\n",
    "    image_info, text_region_data = parser.load_xml_as_dict(xml_file_name)\n",
    "    im_height = int(image_info['imageHeight'])\n",
    "    im_width = int(image_info['imageWidth'])\n",
    "    labels = np.ones((im_height, im_width), dtype=np.uint8)\n",
    "    for text_region in text_region_data:\n",
    "        points = text_region['points']\n",
    "        region_type = text_region['type']\n",
    "        rr, cc = polygon(points[:,1], points[:,0])\n",
    "        labels[rr, cc] = label_registry.get(region_type, 6)\n",
    "    return labels"
   ]
  },
  {
   "cell_type": "code",
   "execution_count": null,
   "metadata": {},
   "outputs": [],
   "source": [
    "for file_name, image in images_dict.items():\n",
    "    xml_file_name = file_name.split('.')[0] + '.xml'\n",
    "    image_info, text_region_data = parser.load_xml_as_dict(xml_file_name)\n",
    "    im_height = int(image_info['imageHeight'])\n",
    "    im_width = int(image_info['imageWidth'])\n",
    "    labels = np.ones((im_height, im_width), dtype=np.uint8)\n",
    "    for text_region in text_region_data:\n",
    "        points = text_region['points']\n",
    "        region_type = text_region['type']\n",
    "        rr, cc = polygon(points[:,1], points[:,0])\n",
    "        labels[rr, cc] = label_registry.get(region_type, 6)\n",
    "    plot_image(label2rgb(labels, image))\n"
   ]
  },
  {
   "cell_type": "code",
   "execution_count": null,
   "metadata": {},
   "outputs": [],
   "source": [
    "images_dict = parser.load_all_images()"
   ]
  },
  {
   "cell_type": "code",
   "execution_count": null,
   "metadata": {},
   "outputs": [],
   "source": [
    "image_info, text_region_data = parser.load_xml_as_dict('Add MS 23494_0031.xml')"
   ]
  },
  {
   "cell_type": "code",
   "execution_count": null,
   "metadata": {},
   "outputs": [],
   "source": [
    "im_height = int(image_info['imageHeight'])\n",
    "im_width = int(image_info['imageWidth'])"
   ]
  },
  {
   "cell_type": "code",
   "execution_count": null,
   "metadata": {},
   "outputs": [],
   "source": [
    "label_registry = {'paragraph': 2,\n",
    "                 'marginalia': 3,\n",
    "                 'caption': 4,\n",
    "                 'graphic': 5}"
   ]
  },
  {
   "cell_type": "code",
   "execution_count": null,
   "metadata": {},
   "outputs": [],
   "source": [
    "labels = np.ones((im_height, im_width), dtype=np.uint8)\n",
    "for text_region in text_region_data:\n",
    "    points = text_region['points']\n",
    "    region_type = text_region['type']\n",
    "    rr, cc = polygon(points[:,1], points[:,0])\n",
    "    labels[rr, cc] = label_registry.get(region_type, 6)\n",
    "    "
   ]
  },
  {
   "cell_type": "code",
   "execution_count": null,
   "metadata": {},
   "outputs": [],
   "source": [
    "plot_image(label2rgb(labels, images_dict['Add MS 23494_0031.tif']))"
   ]
  },
  {
   "cell_type": "code",
   "execution_count": null,
   "metadata": {},
   "outputs": [],
   "source": []
  },
  {
   "cell_type": "code",
   "execution_count": null,
   "metadata": {},
   "outputs": [],
   "source": []
  }
 ],
 "metadata": {
  "kernelspec": {
   "display_name": "Python 3",
   "language": "python",
   "name": "python3"
  },
  "language_info": {
   "codemirror_mode": {
    "name": "ipython",
    "version": 3
   },
   "file_extension": ".py",
   "mimetype": "text/x-python",
   "name": "python",
   "nbconvert_exporter": "python",
   "pygments_lexer": "ipython3",
   "version": "3.6.1"
  }
 },
 "nbformat": 4,
 "nbformat_minor": 2
}
